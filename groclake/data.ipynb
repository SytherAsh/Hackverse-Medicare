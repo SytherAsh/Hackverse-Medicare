{
 "cells": [
  {
   "cell_type": "code",
   "execution_count": 7,
   "metadata": {},
   "outputs": [],
   "source": [
    "import os\n",
    "from groclake.cataloglake import CatalogLake\n",
    "from groclake.modellake import ModelLake\n",
    "from groclake.datalake import DataLake\n",
    "from groclake.vectorlake import VectorLake\n",
    "\n",
    "# Environment variable setup\n",
    "GROCLAKE_API_KEY = 'ea5d2f1c4608232e07d3aa3d998e5135'\n",
    "GROCLAKE_ACCOUNT_ID = 'b3920ccf5094424a74ca0aec2b66dfcb'\n",
    "\n",
    "os.environ['GROCLAKE_API_KEY'] = GROCLAKE_API_KEY\n",
    "os.environ['GROCLAKE_ACCOUNT_ID'] = GROCLAKE_ACCOUNT_ID\n",
    "\n",
    "# Initialize Groclake catalog instance\n",
    "model_lake = ModelLake()\n",
    "data_lake = DataLake()\n",
    "vector_lake = VectorLake()"
   ]
  },
  {
   "cell_type": "code",
   "execution_count": 8,
   "metadata": {},
   "outputs": [],
   "source": [
    "# Create instances for DataLake\n",
    "data_lake = DataLake()"
   ]
  },
  {
   "cell_type": "code",
   "execution_count": 9,
   "metadata": {},
   "outputs": [
    {
     "name": "stdout",
     "output_type": "stream",
     "text": [
      "DataLake Created Successfully: {'datalake_id': 'a6n31j7q6ufe6yc1', 'message': 'Datalake with same name already exists in this account.', 'datalake_name': ''}\n"
     ]
    }
   ],
   "source": [
    "try:\n",
    "    data_create = data_lake.create()\n",
    "    print(\"DataLake Created Successfully:\", data_create)\n",
    "    # Store the DataLake ID for further operations\n",
    "    datalake_id = data_create[\"datalake_id\"]\n",
    "except Exception as e:\n",
    "    print(\"Error creating DataLake:\", str(e))"
   ]
  },
  {
   "cell_type": "code",
   "execution_count": 10,
   "metadata": {},
   "outputs": [
    {
     "name": "stdout",
     "output_type": "stream",
     "text": [
      "Response from push: {'document_id': '793f51a7a7f54122'}\n",
      "Document ID: 793f51a7a7f54122\n"
     ]
    }
   ],
   "source": [
    "try:\n",
    "    payload_push = {\n",
    "        \"datalake_id\": \"a6n31j7q6ufe6yc1\",  # Specify the target DataLake\n",
    "        \"document_type\": \"url\",    # Document type can be 'url', 'text', etc.\n",
    "        \"document_data\": \"https://drive.google.com/uc?export=download&id=1lVln94gqJKUfHXh07iAw6PSnz85s9vUf\"  # URL of the document to push\n",
    "    }\n",
    "\n",
    "    # https://drive.google.com/uc?export=download&id=1cOYyJ5RuTjLph6Hjx_tAhGN_xH74tBtr\n",
    "\n",
    "    # Push the document to the DataLake\n",
    "    data_push = data_lake.push(payload_push)\n",
    "    print(\"Response from push:\", data_push)\n",
    "\n",
    "    # Extract the document_id from the response, which will be used for retrieval\n",
    "    if \"document_id\" in data_push:\n",
    "        document_id = data_push[\"document_id\"]\n",
    "        print(\"Document ID:\", document_id)\n",
    "    else:\n",
    "        print(\"Error: 'document_id' not found in the response.\")\n",
    "\n",
    "except Exception as e:\n",
    "    print(\"Error pushing document:\", str(e))"
   ]
  },
  {
   "cell_type": "code",
   "execution_count": 11,
   "metadata": {},
   "outputs": [
    {
     "name": "stdout",
     "output_type": "stream",
     "text": [
      "Document Fetched Successfully:\n",
      " {'document_id': '793f51a7a7f54122', 'fetch_format': 'chunk', 'document_data': [':: Result No.Sample Reported On MR No. Sample Received On :Referred By:: Age / GenderName YASH SAMEER SAWANT 19 Year(s) /Male Dr. DIPANJAN  HALDAR - Reg No.  2015/08/449605:06:23 PM 26/02/2024 723733 LB-2024-0087054HAEMATOLOGY / IP No. 231677Whole Blood Specimen : Bed No. 0309303 Ward No. :DAY CARESample Registered On : :26/02/2024 03:34:40 PM : /26/02/2024 03:33:40 PM : : Investigations Result Methods Unit Biological Ref. Interval Complete Blood Count Hemoglobin SLS 4.7 g/dl 13.000 - 18.000 Red', ' Cell Count DC Detection 3.53 10^6/ul 4.500 - 6.500 Hematocrit Pulse Detection 20.6 % 40.000 - 54.000 MCV Calculated 58.4 fl 76.000 - 96.000 MCH Calculated 13.3 pg 27.000 - 32.000 MCHC Calculated 22.8 g/dl 32.000 - 35.000 RDW Calculated 22.5 % 11.500 - 14.500 WBC Count Flowcytometry 8.19 10^3/ul 4.000 - 11.000 Platelet Count Impedence 414 10^3/ul 150.000 - 450.000 MPV Impedence 9.6 fl 4.000 - 11.000 Diff. WBC Count Neutrophils Flowcyto/Manual 62 % 40.000 - 70.000 Eosinophils Flowcyto/Manual 02 %', ' 2.000 - 6.000 Lymphocytes Flowcyto/Manual 30 % 15.000 - 40.000 Monocytes Flowcyto/Manual 06 % 2.000 - 8.000 Basophils Manual 00 % 0.000 - 2.000 Absolute Neutrophils Calculated 5.08 10^9/L 1.600 - 7.700 Absolute Lymphocytes Calculated 2.46 10^9/L 0.600 - 4.400 Absolute Eosinophils Calculated 0.16 10^9/L 0.080 - 0.660 Absolute Monocytes Calculated 0.49 10^9/L 0.080 - 0.880 Morphology Erythrocytes Manual Anisocytosis(++)  Microcytosis(++)  Hypochromasia(++)  Poikilocytes seen  Schistocytes seen  1', '-2/100RBCs,  polychromasia seen Leucocytes Manual Normal Platelets Manual Adequate with Platelet  Clumps Comment  : RECHECKED 01/03/2024 /02:39:17 PM Print Date / Time : TRUPT09490 Printed By : Page 1 of 2 Jupiter Hospital Eastern Express Highway, Service Road ,  Thane(W). Website : www.jupiterhospital.com \"A division of Jupiter Lifeline Hospitals Ltd.\" :: Result No.Sample Reported On MR No. Sample Received On :Referred By:: Age / GenderName YASH SAMEER SAWANT 19 Year(s) /Male Dr. DIPANJAN  HALD', 'AR - Reg No.  2015/08/449605:06:23 PM 26/02/2024 723733 LB-2024-0087054HAEMATOLOGY / IP No. 231677Whole Blood Specimen : Bed No. 0309303 Ward No. :DAY CARESample Registered On : :26/02/2024 03:34:40 PM : /26/02/2024 03:33:40 PM : : Investigations Result Methods Unit Biological Ref. Interval SMITA JADHAVChecked By  DR. SUPRIYA DUTTA M.B.B.S, M.D.(PATH)(MMC NO:  2001/02/720) Partial Reproduction of Report not permitted. This report relates to sample received by the laboratory. 01/03/2024 /02:39:17', ' PM Print Date / Time : TRUPT09490 Printed By : Page 2 of 2 Jupiter Hospital Eastern Express Highway, Service Road ,  Thane(W). Website : www.jupiterhospital.com \"A division of Jupiter Lifeline Hospitals Ltd.\" :: Result No.Sample Reported On MR No. Sample Received On :Referred By:: Age / GenderName YASH SAMEER SAWANT 19 Year(s) /Male Dr. DIPANJAN  HALDAR - Reg No.  2015/08/449605:16:29 PM 26/02/2024 723733 LB-2024-0087099HAEMATOLOGY / IP No. 231677Whole Blood Specimen : Bed No. 0309303 Ward No. ', ':DAY CARESample Registered On : :26/02/2024 03:34:40 PM : /26/02/2024 03:33:40 PM : : Investigations Result Methods Unit Biological Ref. Interval Reticulocytes* Supravital Stain(Methylene  Blue)1.6 % Reticulocytes : Reference Range:-   Adults :- 0.2 - 2.0 %   Infants :- 2.5 - 6.5 %  Cord Blood :- 1.0 - 2.0 % SMITA JADHAVChecked By  DR. SUPRIYA DUTTA M.B.B.S, M.D.(PATH)(MMC NO:  2001/02/720) Partial Reproduction of Report not permitted. This report relates to sample received by the laboratory. 01', '/03/2024 /02:39:18 PM Print Date / Time : TRUPT09490 Printed By : Page 1 of 1 Jupiter Hospital Eastern Express Highway, Service Road ,  Thane(W). Website : www.jupiterhospital.com \"A division of Jupiter Lifeline Hospitals Ltd.\" :: Result No.Sample Reported On MR No. Sample Received On :Referred By:: Age / GenderName YASH SAMEER SAWANT 19 Year(s) /Male Dr. DIPANJAN  HALDAR - Reg No.  2015/08/449606:39:55 PM 26/02/2024 723733 LB-2024-0087193IMMUNOLOGY / IP No. 231677Serum Specimen : Bed No. 030930', '3 Ward No. :DAY CARESample Registered On : :26/02/2024 03:34:25 PM : /26/02/2024 03:33:40 PM : : Investigations Result Methods Unit Biological Ref. Interval Serum Ferritin Chemiluminescence 0.9 ng/ml 22.000 - 322.000 Ferritin : Biological Referance Range for Ferritin:                                        Range(ng/ml)           Iron Deficiency                 0.68 - 34.5 Other Anemias                 13.0 - 1390.8 Iron overload                    334.6 - 8573.0 Renal Dialysis                   ', '31.3 - 1321.2 Chronic Liver Disease       7.9 - 12,826.0 Comment  : RECHECKED BHAGYASHREE KADAMChecked By  DR. SUPRIYA NIKAM M.B.B.S, M.D.(PATH)(MMC NO :  2009/03/1198) Partial Reproduction of Report not permitted. This report relates to sample received by the laboratory. 01/03/2024 /02:39:18 PM Print Date / Time : TRUPT09490 Printed By : Page 1 of 1 Jupiter Hospital Eastern Express Highway, Service Road ,  Thane(W). Website : www.jupiterhospital.com \"A division of Jupiter Lifeline Hospitals Ltd', '.\" :: Result No.Sample Reported On MR No. Sample Received On :Referred By:: Age / GenderName YASH SAMEER SAWANT 19 Year(s) /Male Dr. DIPANJAN  HALDAR - Reg No.  2015/08/449608:17:35 PM 26/02/2024 723733 LB-2024-0087252BIOCHEMISTRY / IP No. 231677Serum Specimen : Bed No. 0309303 Ward No. :DAY CARESample Registered On : :26/02/2024 03:34:11 PM : /26/02/2024 03:33:40 PM : : Investigations Result Methods Unit Biological Ref. Interval Serum Iron Ferrozine-no deproteinisation 6 ug/dl 65.000 - 175.000 ', 'Total Iron Binding Capacity FERENE 457 ug/dl 250.000 - 425.000 Transferrin Saturation 1.31 % 17.000 - 45.000 APEKSHAChecked By  DR. SUPRIYA NIKAM M.B.B.S, M.D.(PATH)(MMC NO :  2009/03/1198) Partial Reproduction of Report not permitted. This report relates to sample received by the laboratory. 01/03/2024 /02:39:19 PM Print Date / Time : TRUPT09490 Printed By : Page 1 of 1 Jupiter Hospital Eastern Express Highway, Service Road ,  Thane(W). Website : www.jupiterhospital.com \"A division of Jupiter L', 'ifeline Hospitals Ltd.\" :: Result No.Sample Reported On MR No. Sample Received On :Referred By:: Age / GenderName YASH SAMEER SAWANT 19 Year(s) /Male Dr. DIPANJAN  HALDAR - Reg No.  2015/08/449607:48:41 AM 27/02/2024 723733 LB-2024-0087554BLOOD BANK / IP No. 231677Whole Blood,Serum Specimen : Bed No. 0309303 Ward No. :DAY CARESample Registered On : :26/02/2024 05:12:28 PM : /26/02/2024 03:46:50 PM : : Investigations Result Methods Unit Biological Ref. Interval Blood Group Manual \"A\" Rh Factor Ma', 'nual Positive Shubhangi D KanwaluChecked By  DR. MOHD AAMIR ANSARI MD(IHBT)(MMC NO : 2014/05/2496) Partial Reproduction of Report not permitted. This report relates to sample received by the laboratory. 01/03/2024 /02:39:20 PM Print Date / Time : TRUPT09490 Printed By : Page 1 of 1 Jupiter Hospital Eastern Express Highway, Service Road ,  Thane(W). Website : www.jupiterhospital.com \"A division of Jupiter Lifeline Hospitals Ltd.\" :: Result No.Sample Reported On MR No. Sample Received On :Referred', ' By:: Age / GenderName YASH SAMEER SAWANT 19 Year(s) /Male Dr. DIPANJAN  HALDAR - Reg No.  2015/08/449607:49:08 AM 27/02/2024 723733 LB-2024-0087555BLOOD BANK / IP No. 231677Blood Specimen : Bed No. 0309303 Ward No. :DAY CARESample Registered On : :26/02/2024 05:12:35 PM : /26/02/2024 03:46:50 PM : : Investigations Result Methods Unit Biological Ref. Interval Antibody Screening SC1 Negative SC2 Negative SC3 Negative Interpretation THREE CELL PANEL  NEGATIVE Shubhangi D KanwaluChecked By  DR. MOH', 'D AAMIR ANSARI MD(IHBT)(MMC NO : 2014/05/2496) Partial Reproduction of Report not permitted. This report relates to sample received by the laboratory. 01/03/2024 /02:39:21 PM Print Date / Time : TRUPT09490 Printed By : Page 1 of 1 Jupiter Hospital Eastern Express Highway, Service Road ,  Thane(W). Website : www.jupiterhospital.com \"A division of Jupiter Lifeline Hospitals Ltd.\" Celiac Disease Profile Gliadin (De-amidated, DGP) Antibodiy  - IgA (Serum , EIA) Negative,23.45 RU/mL Negative: <  25 P', 'ositive: >=  25   Interpretation:   • Gliadin (deamidated,DGP) is a fraction of gluten, which is a protein component found in wheatmeal and other cereals • In gluten sensitive enteropathy/celiac disease, cereal ingestion brings about intestinal malabsoption and diarrhoea • High anti gliadin IgA and/or IgG levels are therefore used for screening or monitoring patients with Celiac disease Limitations: • High anti- gliadin titres may be found in other gastrointestinal diseases such as Crohn`s disea', 'se, ulcerative colitis and  esophagitis. Low levels of anti- gliadin antibodies have been found in several cases of celiac disease due to a selective IgA  deficiency • Values should be interpreted in conjunction with associated tests viz. tissue trans glutaminase and endomysial antibody. Gliadin (De-amidated, DGP)  Antibodies -IgG (Serum , EIA) Negative,<0.3 RU/mL Negative: <  25 Positive: >=  25   Interpretation:   • Gliadin (deamidated,DGP) is a fraction of gluten, which is a protein component', ' found in wheatmeal and other cereals • In gluten sensitive enteropathy/celiac disease, cereal ingestion brings about intestinal malabsoption and diarrhoea • High anti gliadin IgA and/or IgG levels are therefore used for screening or monitoring patients with Celiac disease Limitations: • High anti- gliadin titres may be found in other gastrointestinal diseases such as Crohn`s disease, ulcerative colitis and  esophagitis. Low levels of anti- gliadin antibodies have been found in several cases of ', 'celiac disease due to a selective IgA  deficiency • Values should be interpreted in conjunction with associated tests viz. tissue trans glutaminase and endomysial antibody. Dr. ALAP CHRISTY MBBS, MD, PGDM-HC Head -  Clinical Chemistry Reg No. 2020/12/6991 Dr. ALAP CHRISTY MBBS, MD, PGDM-HC Head -  Clinical Chemistry Reg No. 2020/12/6991 Dr. ALAP CHRISTY MBBS, MD, PGDM-HC Head -  Clinical Chemistry Reg No. 2020/12/6991 Page  1  of  3 Reference: SELF Sample Collected At: Jupiter Hospital-thane (w)', ' Eastern Express Highway , Thane- 400601Zone: C-19b(41) Processing Location:- Metropolis  Healthcare Ltd,Unit No409-416,4th  Floor,Commercial Building-1,Kohinoor  Mall,Mumbai-70 Mr. YASH SAMEER SAWANT  Age : 19 Year(s) Sex: Male PID NO: P13323519415608   .. VID: 230067504999117 Collected On: 27/02/2024 3:14PM   Registered On: 27/02/2024 03:15 PM Reported On: 29/02/2024 02:38 PM Investigation Biological Reference Interval Observed Value Unit Investigation Observed Value Biological Reference Inter', 'val Endomysial Antibody IgA (Serum , Immunofluorescence) Negative Negative Sample screening dilution is  1:10 Test Description: 1. Antibodies against endomysium of class IgA can be found in gluten sensitive enteropathy ( children : celiac  disease, adults : non tropical sprue ). 2. In many cases the determination of antibodies against endomysium and gliadin can replace the endoscopy and  the analysis of biopsy material. 3. Independent of the occurrence of antibodies against endomysium, antibodie', \"s against gliadin of classes IgA and  IgG are detectable in gluten sensitive enteropathy and Duhring's detmatitis herpetiformis. Limitation: Antibodies against endomysium and gliadin are rarely seen in healthy individuals and in other intestinal diseases. Technique: • Bio-chip slides with tissue sections of primate intestine covering the reaction areas are used. Associated Test : 1. Gliadin antibodies ( IgA ) by EIA 2. Gliadin antibodies ( IgG ) by EIA Dr. ALAP CHRISTY MBBS, MD, PGDM-HC Head -  \", 'Clinical Chemistry Reg No. 2020/12/6991 Dr. ALAP CHRISTY MBBS, MD, PGDM-HC Head -  Clinical Chemistry Reg No. 2020/12/6991 Dr. ALAP CHRISTY MBBS, MD, PGDM-HC Head -  Clinical Chemistry Reg No. 2020/12/6991 Page  2  of  3 Reference: SELF Sample Collected At: Jupiter Hospital-thane (w) Eastern Express Highway , Thane- 400601Zone: C-19b(41) Processing Location:- Metropolis  Healthcare Ltd,Unit No409-416,4th  Floor,Commercial Building-1,Kohinoor  Mall,Mumbai-70 Mr. YASH SAMEER SAWANT  Age : 19 Year(', 's) Sex: Male PID NO: P13323519415608   .. VID: 230067504999117 Collected On: 27/02/2024 3:14PM   Registered On: 27/02/2024 03:15 PM Reported On: 29/02/2024 02:38 PM tTG (Tissue Transglutaminase) IgA (Serum , CLIA) Negative,<0.200 AU/mL Negative: <  8 Positive: >=  8 Please note change in  reference range and method Interpretation:   • \\xa0\\xa0Anti\\xa0tTG\\xa0IgA\\xa0is\\xa0positive\\xa0in\\xa0Celiac\\xa0disease/Gluten\\xa0sensitive\\xa0enteropathy,\\xa0which\\xa0is\\xa0a\\xa0chronic\\xa0condition\\xa0affecting\\xa0genetically\\xa0 susceptible individuals. Clinical Ut', 'ility-   • \\xa0\\xa0tTG\\xa0(Tissue\\xa0Transglutaminase)\\xa0IgA\\xa0autoantibodies\\xa0aids\\xa0in\\xa0diagnosis\\xa0and\\xa0monitoring\\xa0of\\xa0coeliac\\xa0disease. • \\xa0\\xa0IgA\\xa0correlates\\xa0with\\xa0disease\\xa0activity\\xa0and\\xa0is\\xa0thus\\xa0of\\xa0paramount\\xa0importance\\xa0for\\xa0diet\\xa0monitoring.\\xa0It\\xa0may\\xa0also\\xa0help\\xa0in\\xa0detection\\xa0of\\xa0 untreated subclinical cases. Limitations:   • \\xa0\\xa0A\\xa0negative\\xa0result\\xa0does\\xa0not\\xa0always\\xa0rule\\xa0out\\xa0the\\xa0presence\\xa0of\\xa0gluten-sensitive\\xa0enteropathy. • \\xa0\\xa0Diagnosis\\xa0of\\xa0a\\xa0disease\\xa0determined\\xa0in\\xa0conjunction\\xa0with\\xa0clinical\\xa0findings\\xa0and\\xa0other\\xa0diagnostic\\xa0procedures\\xa0as\\xa0well\\xa0', 'as\\xa0in\\xa0 association with medical judgement. ASSOCIATED TESTS :  Celiac Disease Profile ( C 0079  ), Gliadin-IgA Antibodies De-amidated (DGP)Serum(G 0022 ), Gliadin-IgG  Antibodies De-amidated (DGP)Serum (G 0023 ), Endomysial Antibody IgA antibody Serum (E 0027 ), Endomysial Antibody IgG  antibody Serum (E 0028 )  References- • \\xa0Kit\\xa0Insert \\xa0 -- End of Report -- Tests marked with NABL symbol are accredited by NABL vide Certificate no   MC-2139; Validity till 01-06-2024 Dr. AMIT TAORI MBBS,MD(PATHOL', 'OGY)  REG.NO.2017/11/5350 Dr. AMIT TAORI MBBS,MD(PATHOLOGY)  REG.NO.2017/11/5350 Dr. AMIT TAORI MBBS,MD(PATHOLOGY)  REG.NO.2017/11/5350 Page  3  of  3 Reference: SELF Sample Collected At: Jupiter Hospital-thane (w) Eastern Express Highway , Thane- 400601Zone: C-19b(41) Processing Location:- Metropolis  Healthcare Ltd,Unit No409-416,4th  Floor,Commercial Building-1,Kohinoor  Mall,Mumbai-70 Mr. YASH SAMEER SAWANT  Age : 19 Year(s) Sex: Male PID NO: P13323519415608   .. VID: 230067504999117 Collect', 'ed On: 27/02/2024 3:14PM   Registered On: 27/02/2024 03:15 PM Reported On: 29/02/2024 02:38 PM Investigation Biological Reference Interval Observed Value Unit ']}\n"
     ]
    }
   ],
   "source": [
    "payload_fetch = {\n",
    "    \"document_id\": document_id,  # Specify the document to fetch\n",
    "    \"datalake_id\": datalake_id,  # Specify the DataLake where the document resides\n",
    "    \"fetch_format\": \"chunk\",   # Fetching in chunks allows partial retrieval for large files\n",
    "    \"chunk_size\": \"500\"         # Define the size of each chunk (in bytes or characters)\n",
    "}\n",
    "\n",
    "try:\n",
    "    # Fetch the document from the DataLake\n",
    "    data_fetch = data_lake.fetch(payload_fetch)\n",
    "    print(\"Document Fetched Successfully:\\n\", data_fetch)\n",
    "\n",
    "    # When fetching in chunks, the document is divided into manageable pieces for processing\n",
    "except Exception as e:\n",
    "    print(\"Error fetching document:\", str(e))"
   ]
  },
  {
   "cell_type": "code",
   "execution_count": 12,
   "metadata": {},
   "outputs": [
    {
     "name": "stdout",
     "output_type": "stream",
     "text": [
      "Chunk 1:\n",
      ":: Result No.Sample Reported On MR No. Sample Received On :Referred By:: Age / GenderName YASH SAMEER SAWANT 19 Year(s) /Male Dr. DIPANJAN  HALDAR - Reg No.  2015/08/449605:06:23 PM 26/02/2024 723733 LB-2024-0087054HAEMATOLOGY / IP No. 231677Whole Blood Specimen : Bed No. 0309303 Ward No. :DAY CARESample Registered On : :26/02/2024 03:34:40 PM : /26/02/2024 03:33:40 PM : : Investigations Result Methods Unit Biological Ref. Interval Complete Blood Count Hemoglobin SLS 4.7 g/dl 13.000 - 18.000 Red\n",
      "--------------------------------------------------\n",
      "Chunk 2:\n",
      " Cell Count DC Detection 3.53 10^6/ul 4.500 - 6.500 Hematocrit Pulse Detection 20.6 % 40.000 - 54.000 MCV Calculated 58.4 fl 76.000 - 96.000 MCH Calculated 13.3 pg 27.000 - 32.000 MCHC Calculated 22.8 g/dl 32.000 - 35.000 RDW Calculated 22.5 % 11.500 - 14.500 WBC Count Flowcytometry 8.19 10^3/ul 4.000 - 11.000 Platelet Count Impedence 414 10^3/ul 150.000 - 450.000 MPV Impedence 9.6 fl 4.000 - 11.000 Diff. WBC Count Neutrophils Flowcyto/Manual 62 % 40.000 - 70.000 Eosinophils Flowcyto/Manual 02 %\n",
      "--------------------------------------------------\n",
      "Chunk 3:\n",
      " 2.000 - 6.000 Lymphocytes Flowcyto/Manual 30 % 15.000 - 40.000 Monocytes Flowcyto/Manual 06 % 2.000 - 8.000 Basophils Manual 00 % 0.000 - 2.000 Absolute Neutrophils Calculated 5.08 10^9/L 1.600 - 7.700 Absolute Lymphocytes Calculated 2.46 10^9/L 0.600 - 4.400 Absolute Eosinophils Calculated 0.16 10^9/L 0.080 - 0.660 Absolute Monocytes Calculated 0.49 10^9/L 0.080 - 0.880 Morphology Erythrocytes Manual Anisocytosis(++)  Microcytosis(++)  Hypochromasia(++)  Poikilocytes seen  Schistocytes seen  1\n",
      "--------------------------------------------------\n",
      "Chunk 4:\n",
      "-2/100RBCs,  polychromasia seen Leucocytes Manual Normal Platelets Manual Adequate with Platelet  Clumps Comment  : RECHECKED 01/03/2024 /02:39:17 PM Print Date / Time : TRUPT09490 Printed By : Page 1 of 2 Jupiter Hospital Eastern Express Highway, Service Road ,  Thane(W). Website : www.jupiterhospital.com \"A division of Jupiter Lifeline Hospitals Ltd.\" :: Result No.Sample Reported On MR No. Sample Received On :Referred By:: Age / GenderName YASH SAMEER SAWANT 19 Year(s) /Male Dr. DIPANJAN  HALD\n",
      "--------------------------------------------------\n",
      "Chunk 5:\n",
      "AR - Reg No.  2015/08/449605:06:23 PM 26/02/2024 723733 LB-2024-0087054HAEMATOLOGY / IP No. 231677Whole Blood Specimen : Bed No. 0309303 Ward No. :DAY CARESample Registered On : :26/02/2024 03:34:40 PM : /26/02/2024 03:33:40 PM : : Investigations Result Methods Unit Biological Ref. Interval SMITA JADHAVChecked By  DR. SUPRIYA DUTTA M.B.B.S, M.D.(PATH)(MMC NO:  2001/02/720) Partial Reproduction of Report not permitted. This report relates to sample received by the laboratory. 01/03/2024 /02:39:17\n",
      "--------------------------------------------------\n",
      "Chunk 6:\n",
      " PM Print Date / Time : TRUPT09490 Printed By : Page 2 of 2 Jupiter Hospital Eastern Express Highway, Service Road ,  Thane(W). Website : www.jupiterhospital.com \"A division of Jupiter Lifeline Hospitals Ltd.\" :: Result No.Sample Reported On MR No. Sample Received On :Referred By:: Age / GenderName YASH SAMEER SAWANT 19 Year(s) /Male Dr. DIPANJAN  HALDAR - Reg No.  2015/08/449605:16:29 PM 26/02/2024 723733 LB-2024-0087099HAEMATOLOGY / IP No. 231677Whole Blood Specimen : Bed No. 0309303 Ward No. \n",
      "--------------------------------------------------\n",
      "Chunk 7:\n",
      ":DAY CARESample Registered On : :26/02/2024 03:34:40 PM : /26/02/2024 03:33:40 PM : : Investigations Result Methods Unit Biological Ref. Interval Reticulocytes* Supravital Stain(Methylene  Blue)1.6 % Reticulocytes : Reference Range:-   Adults :- 0.2 - 2.0 %   Infants :- 2.5 - 6.5 %  Cord Blood :- 1.0 - 2.0 % SMITA JADHAVChecked By  DR. SUPRIYA DUTTA M.B.B.S, M.D.(PATH)(MMC NO:  2001/02/720) Partial Reproduction of Report not permitted. This report relates to sample received by the laboratory. 01\n",
      "--------------------------------------------------\n",
      "Chunk 8:\n",
      "/03/2024 /02:39:18 PM Print Date / Time : TRUPT09490 Printed By : Page 1 of 1 Jupiter Hospital Eastern Express Highway, Service Road ,  Thane(W). Website : www.jupiterhospital.com \"A division of Jupiter Lifeline Hospitals Ltd.\" :: Result No.Sample Reported On MR No. Sample Received On :Referred By:: Age / GenderName YASH SAMEER SAWANT 19 Year(s) /Male Dr. DIPANJAN  HALDAR - Reg No.  2015/08/449606:39:55 PM 26/02/2024 723733 LB-2024-0087193IMMUNOLOGY / IP No. 231677Serum Specimen : Bed No. 030930\n",
      "--------------------------------------------------\n",
      "Chunk 9:\n",
      "3 Ward No. :DAY CARESample Registered On : :26/02/2024 03:34:25 PM : /26/02/2024 03:33:40 PM : : Investigations Result Methods Unit Biological Ref. Interval Serum Ferritin Chemiluminescence 0.9 ng/ml 22.000 - 322.000 Ferritin : Biological Referance Range for Ferritin:                                        Range(ng/ml)           Iron Deficiency                 0.68 - 34.5 Other Anemias                 13.0 - 1390.8 Iron overload                    334.6 - 8573.0 Renal Dialysis                   \n",
      "--------------------------------------------------\n",
      "Chunk 10:\n",
      "31.3 - 1321.2 Chronic Liver Disease       7.9 - 12,826.0 Comment  : RECHECKED BHAGYASHREE KADAMChecked By  DR. SUPRIYA NIKAM M.B.B.S, M.D.(PATH)(MMC NO :  2009/03/1198) Partial Reproduction of Report not permitted. This report relates to sample received by the laboratory. 01/03/2024 /02:39:18 PM Print Date / Time : TRUPT09490 Printed By : Page 1 of 1 Jupiter Hospital Eastern Express Highway, Service Road ,  Thane(W). Website : www.jupiterhospital.com \"A division of Jupiter Lifeline Hospitals Ltd\n",
      "--------------------------------------------------\n",
      "Chunk 11:\n",
      ".\" :: Result No.Sample Reported On MR No. Sample Received On :Referred By:: Age / GenderName YASH SAMEER SAWANT 19 Year(s) /Male Dr. DIPANJAN  HALDAR - Reg No.  2015/08/449608:17:35 PM 26/02/2024 723733 LB-2024-0087252BIOCHEMISTRY / IP No. 231677Serum Specimen : Bed No. 0309303 Ward No. :DAY CARESample Registered On : :26/02/2024 03:34:11 PM : /26/02/2024 03:33:40 PM : : Investigations Result Methods Unit Biological Ref. Interval Serum Iron Ferrozine-no deproteinisation 6 ug/dl 65.000 - 175.000 \n",
      "--------------------------------------------------\n",
      "Chunk 12:\n",
      "Total Iron Binding Capacity FERENE 457 ug/dl 250.000 - 425.000 Transferrin Saturation 1.31 % 17.000 - 45.000 APEKSHAChecked By  DR. SUPRIYA NIKAM M.B.B.S, M.D.(PATH)(MMC NO :  2009/03/1198) Partial Reproduction of Report not permitted. This report relates to sample received by the laboratory. 01/03/2024 /02:39:19 PM Print Date / Time : TRUPT09490 Printed By : Page 1 of 1 Jupiter Hospital Eastern Express Highway, Service Road ,  Thane(W). Website : www.jupiterhospital.com \"A division of Jupiter L\n",
      "--------------------------------------------------\n",
      "Chunk 13:\n",
      "ifeline Hospitals Ltd.\" :: Result No.Sample Reported On MR No. Sample Received On :Referred By:: Age / GenderName YASH SAMEER SAWANT 19 Year(s) /Male Dr. DIPANJAN  HALDAR - Reg No.  2015/08/449607:48:41 AM 27/02/2024 723733 LB-2024-0087554BLOOD BANK / IP No. 231677Whole Blood,Serum Specimen : Bed No. 0309303 Ward No. :DAY CARESample Registered On : :26/02/2024 05:12:28 PM : /26/02/2024 03:46:50 PM : : Investigations Result Methods Unit Biological Ref. Interval Blood Group Manual \"A\" Rh Factor Ma\n",
      "--------------------------------------------------\n",
      "Chunk 14:\n",
      "nual Positive Shubhangi D KanwaluChecked By  DR. MOHD AAMIR ANSARI MD(IHBT)(MMC NO : 2014/05/2496) Partial Reproduction of Report not permitted. This report relates to sample received by the laboratory. 01/03/2024 /02:39:20 PM Print Date / Time : TRUPT09490 Printed By : Page 1 of 1 Jupiter Hospital Eastern Express Highway, Service Road ,  Thane(W). Website : www.jupiterhospital.com \"A division of Jupiter Lifeline Hospitals Ltd.\" :: Result No.Sample Reported On MR No. Sample Received On :Referred\n",
      "--------------------------------------------------\n",
      "Chunk 15:\n",
      " By:: Age / GenderName YASH SAMEER SAWANT 19 Year(s) /Male Dr. DIPANJAN  HALDAR - Reg No.  2015/08/449607:49:08 AM 27/02/2024 723733 LB-2024-0087555BLOOD BANK / IP No. 231677Blood Specimen : Bed No. 0309303 Ward No. :DAY CARESample Registered On : :26/02/2024 05:12:35 PM : /26/02/2024 03:46:50 PM : : Investigations Result Methods Unit Biological Ref. Interval Antibody Screening SC1 Negative SC2 Negative SC3 Negative Interpretation THREE CELL PANEL  NEGATIVE Shubhangi D KanwaluChecked By  DR. MOH\n",
      "--------------------------------------------------\n",
      "Chunk 16:\n",
      "D AAMIR ANSARI MD(IHBT)(MMC NO : 2014/05/2496) Partial Reproduction of Report not permitted. This report relates to sample received by the laboratory. 01/03/2024 /02:39:21 PM Print Date / Time : TRUPT09490 Printed By : Page 1 of 1 Jupiter Hospital Eastern Express Highway, Service Road ,  Thane(W). Website : www.jupiterhospital.com \"A division of Jupiter Lifeline Hospitals Ltd.\" Celiac Disease Profile Gliadin (De-amidated, DGP) Antibodiy  - IgA (Serum , EIA) Negative,23.45 RU/mL Negative: <  25 P\n",
      "--------------------------------------------------\n",
      "Chunk 17:\n",
      "ositive: >=  25   Interpretation:   • Gliadin (deamidated,DGP) is a fraction of gluten, which is a protein component found in wheatmeal and other cereals • In gluten sensitive enteropathy/celiac disease, cereal ingestion brings about intestinal malabsoption and diarrhoea • High anti gliadin IgA and/or IgG levels are therefore used for screening or monitoring patients with Celiac disease Limitations: • High anti- gliadin titres may be found in other gastrointestinal diseases such as Crohn`s disea\n",
      "--------------------------------------------------\n",
      "Chunk 18:\n",
      "se, ulcerative colitis and  esophagitis. Low levels of anti- gliadin antibodies have been found in several cases of celiac disease due to a selective IgA  deficiency • Values should be interpreted in conjunction with associated tests viz. tissue trans glutaminase and endomysial antibody. Gliadin (De-amidated, DGP)  Antibodies -IgG (Serum , EIA) Negative,<0.3 RU/mL Negative: <  25 Positive: >=  25   Interpretation:   • Gliadin (deamidated,DGP) is a fraction of gluten, which is a protein component\n",
      "--------------------------------------------------\n",
      "Chunk 19:\n",
      " found in wheatmeal and other cereals • In gluten sensitive enteropathy/celiac disease, cereal ingestion brings about intestinal malabsoption and diarrhoea • High anti gliadin IgA and/or IgG levels are therefore used for screening or monitoring patients with Celiac disease Limitations: • High anti- gliadin titres may be found in other gastrointestinal diseases such as Crohn`s disease, ulcerative colitis and  esophagitis. Low levels of anti- gliadin antibodies have been found in several cases of \n",
      "--------------------------------------------------\n",
      "Chunk 20:\n",
      "celiac disease due to a selective IgA  deficiency • Values should be interpreted in conjunction with associated tests viz. tissue trans glutaminase and endomysial antibody. Dr. ALAP CHRISTY MBBS, MD, PGDM-HC Head -  Clinical Chemistry Reg No. 2020/12/6991 Dr. ALAP CHRISTY MBBS, MD, PGDM-HC Head -  Clinical Chemistry Reg No. 2020/12/6991 Dr. ALAP CHRISTY MBBS, MD, PGDM-HC Head -  Clinical Chemistry Reg No. 2020/12/6991 Page  1  of  3 Reference: SELF Sample Collected At: Jupiter Hospital-thane (w)\n",
      "--------------------------------------------------\n",
      "Chunk 21:\n",
      " Eastern Express Highway , Thane- 400601Zone: C-19b(41) Processing Location:- Metropolis  Healthcare Ltd,Unit No409-416,4th  Floor,Commercial Building-1,Kohinoor  Mall,Mumbai-70 Mr. YASH SAMEER SAWANT  Age : 19 Year(s) Sex: Male PID NO: P13323519415608   .. VID: 230067504999117 Collected On: 27/02/2024 3:14PM   Registered On: 27/02/2024 03:15 PM Reported On: 29/02/2024 02:38 PM Investigation Biological Reference Interval Observed Value Unit Investigation Observed Value Biological Reference Inter\n",
      "--------------------------------------------------\n",
      "Chunk 22:\n",
      "val Endomysial Antibody IgA (Serum , Immunofluorescence) Negative Negative Sample screening dilution is  1:10 Test Description: 1. Antibodies against endomysium of class IgA can be found in gluten sensitive enteropathy ( children : celiac  disease, adults : non tropical sprue ). 2. In many cases the determination of antibodies against endomysium and gliadin can replace the endoscopy and  the analysis of biopsy material. 3. Independent of the occurrence of antibodies against endomysium, antibodie\n",
      "--------------------------------------------------\n",
      "Chunk 23:\n",
      "s against gliadin of classes IgA and  IgG are detectable in gluten sensitive enteropathy and Duhring's detmatitis herpetiformis. Limitation: Antibodies against endomysium and gliadin are rarely seen in healthy individuals and in other intestinal diseases. Technique: • Bio-chip slides with tissue sections of primate intestine covering the reaction areas are used. Associated Test : 1. Gliadin antibodies ( IgA ) by EIA 2. Gliadin antibodies ( IgG ) by EIA Dr. ALAP CHRISTY MBBS, MD, PGDM-HC Head -  \n",
      "--------------------------------------------------\n",
      "Chunk 24:\n",
      "Clinical Chemistry Reg No. 2020/12/6991 Dr. ALAP CHRISTY MBBS, MD, PGDM-HC Head -  Clinical Chemistry Reg No. 2020/12/6991 Dr. ALAP CHRISTY MBBS, MD, PGDM-HC Head -  Clinical Chemistry Reg No. 2020/12/6991 Page  2  of  3 Reference: SELF Sample Collected At: Jupiter Hospital-thane (w) Eastern Express Highway , Thane- 400601Zone: C-19b(41) Processing Location:- Metropolis  Healthcare Ltd,Unit No409-416,4th  Floor,Commercial Building-1,Kohinoor  Mall,Mumbai-70 Mr. YASH SAMEER SAWANT  Age : 19 Year(\n",
      "--------------------------------------------------\n",
      "Chunk 25:\n",
      "s) Sex: Male PID NO: P13323519415608   .. VID: 230067504999117 Collected On: 27/02/2024 3:14PM   Registered On: 27/02/2024 03:15 PM Reported On: 29/02/2024 02:38 PM tTG (Tissue Transglutaminase) IgA (Serum , CLIA) Negative,<0.200 AU/mL Negative: <  8 Positive: >=  8 Please note change in  reference range and method Interpretation:   •   Anti tTG IgA is positive in Celiac disease/Gluten sensitive enteropathy, which is a chronic condition affecting genetically  susceptible individuals. Clinical Ut\n",
      "--------------------------------------------------\n",
      "Chunk 26:\n",
      "ility-   •   tTG (Tissue Transglutaminase) IgA autoantibodies aids in diagnosis and monitoring of coeliac disease. •   IgA correlates with disease activity and is thus of paramount importance for diet monitoring. It may also help in detection of  untreated subclinical cases. Limitations:   •   A negative result does not always rule out the presence of gluten-sensitive enteropathy. •   Diagnosis of a disease determined in conjunction with clinical findings and other diagnostic procedures as well \n",
      "--------------------------------------------------\n",
      "Chunk 27:\n",
      "as in  association with medical judgement. ASSOCIATED TESTS :  Celiac Disease Profile ( C 0079  ), Gliadin-IgA Antibodies De-amidated (DGP)Serum(G 0022 ), Gliadin-IgG  Antibodies De-amidated (DGP)Serum (G 0023 ), Endomysial Antibody IgA antibody Serum (E 0027 ), Endomysial Antibody IgG  antibody Serum (E 0028 )  References- •  Kit Insert   -- End of Report -- Tests marked with NABL symbol are accredited by NABL vide Certificate no   MC-2139; Validity till 01-06-2024 Dr. AMIT TAORI MBBS,MD(PATHOL\n",
      "--------------------------------------------------\n",
      "Chunk 28:\n",
      "OGY)  REG.NO.2017/11/5350 Dr. AMIT TAORI MBBS,MD(PATHOLOGY)  REG.NO.2017/11/5350 Dr. AMIT TAORI MBBS,MD(PATHOLOGY)  REG.NO.2017/11/5350 Page  3  of  3 Reference: SELF Sample Collected At: Jupiter Hospital-thane (w) Eastern Express Highway , Thane- 400601Zone: C-19b(41) Processing Location:- Metropolis  Healthcare Ltd,Unit No409-416,4th  Floor,Commercial Building-1,Kohinoor  Mall,Mumbai-70 Mr. YASH SAMEER SAWANT  Age : 19 Year(s) Sex: Male PID NO: P13323519415608   .. VID: 230067504999117 Collect\n",
      "--------------------------------------------------\n",
      "Chunk 29:\n",
      "ed On: 27/02/2024 3:14PM   Registered On: 27/02/2024 03:15 PM Reported On: 29/02/2024 02:38 PM Investigation Biological Reference Interval Observed Value Unit \n",
      "--------------------------------------------------\n"
     ]
    }
   ],
   "source": [
    "try:\n",
    "    document_chunks = data_fetch.get(\"document_data\", [])  # Retrieve document data in chunks\n",
    "    for idx, chunk in enumerate(document_chunks):\n",
    "        print(f\"Chunk {idx + 1}:\")\n",
    "        print(chunk)  # Display each chunk of the document\n",
    "        print(\"-\" * 50)  # Separator for clarity\n",
    "\n",
    "    # Chunked fetching is especially useful for large documents, as it prevents memory overload\n",
    "except Exception as e:\n",
    "    print(\"Error processing fetched data:\", str(e))"
   ]
  },
  {
   "cell_type": "code",
   "execution_count": null,
   "metadata": {},
   "outputs": [],
   "source": []
  }
 ],
 "metadata": {
  "kernelspec": {
   "display_name": "groc",
   "language": "python",
   "name": "python3"
  },
  "language_info": {
   "codemirror_mode": {
    "name": "ipython",
    "version": 3
   },
   "file_extension": ".py",
   "mimetype": "text/x-python",
   "name": "python",
   "nbconvert_exporter": "python",
   "pygments_lexer": "ipython3",
   "version": "3.11.4"
  }
 },
 "nbformat": 4,
 "nbformat_minor": 2
}
